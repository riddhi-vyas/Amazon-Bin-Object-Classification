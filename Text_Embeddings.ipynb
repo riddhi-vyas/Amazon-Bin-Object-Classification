{
 "cells": [
  {
   "cell_type": "code",
   "execution_count": 43,
   "id": "6e40be4f-96c5-4693-abc4-d370c9a35e8c",
   "metadata": {},
   "outputs": [],
   "source": [
    "import os\n",
    "import clip\n",
    "import torch\n",
    "from PIL import Image\n",
    "\n",
    "# Load the model\n",
    "device = \"cuda\" if torch.cuda.is_available() else \"cpu\"\n",
    "model, preprocess = clip.load('ViT-B/32', device)"
   ]
  },
  {
   "cell_type": "code",
   "execution_count": 44,
   "id": "5119f5a4-218f-4f8b-bfef-72cc0064029d",
   "metadata": {},
   "outputs": [
    {
     "name": "stdout",
     "output_type": "stream",
     "text": [
      "[0, 1, 2, 3, 4, 5]\n"
     ]
    }
   ],
   "source": [
    "# Calculate features\n",
    "number_count_list = [count for count in range(6)]\n",
    "number_count_list = [count for count in range(6)]\n",
    "print(number_count_list)\n",
    "text_inputs = torch.cat([clip.tokenize(f\"The bin image might contains {Quantity} bottles, cans, and boxes with round, square, and rectangular shapes.\") for Quantity in number_count_list]).to(device)\n",
    "with torch.no_grad():\n",
    "    text_features = model.encode_text(text_inputs)\n",
    "text_features /= text_features.norm(dim=-1, keepdim=True)"
   ]
  },
  {
   "cell_type": "code",
   "execution_count": 45,
   "id": "bfdb256e-bce1-4acd-842a-faa44c63ee2a",
   "metadata": {},
   "outputs": [],
   "source": [
    "import pickle\n",
    "# Save the tensor to a pickle file\n",
    "with open('text_features.pkl', 'wb') as f:\n",
    "    pickle.dump({\"text_features\":text_features, \"files\":number_count_list}, f)\n",
    "\n",
    "# Load the pickle file\n",
    "with open('text_features.pkl', 'rb') as f:\n",
    "    data = pickle.load(f)"
   ]
  },
  {
   "cell_type": "code",
   "execution_count": 46,
   "id": "8195b757-1176-46f8-b54a-54690fddf56f",
   "metadata": {},
   "outputs": [
    {
     "data": {
      "text/plain": [
       "{'text_features': tensor([[ 0.0204,  0.0404,  0.0119,  ...,  0.0240,  0.0152, -0.0545],\n",
       "         [ 0.0218,  0.0402,  0.0091,  ...,  0.0191,  0.0107, -0.0607],\n",
       "         [ 0.0217,  0.0364,  0.0034,  ...,  0.0186,  0.0095, -0.0645],\n",
       "         [ 0.0220,  0.0339,  0.0076,  ...,  0.0194,  0.0063, -0.0604],\n",
       "         [ 0.0223,  0.0329,  0.0083,  ...,  0.0233,  0.0066, -0.0620],\n",
       "         [ 0.0199,  0.0337,  0.0109,  ...,  0.0237,  0.0092, -0.0625]]),\n",
       " 'files': [0, 1, 2, 3, 4, 5]}"
      ]
     },
     "execution_count": 46,
     "metadata": {},
     "output_type": "execute_result"
    }
   ],
   "source": [
    "data"
   ]
  },
  {
   "cell_type": "code",
   "execution_count": 47,
   "id": "848db2fd-2f97-4be1-b66f-7cbb8e59a6ef",
   "metadata": {},
   "outputs": [
    {
     "data": {
      "text/plain": [
       "torch.Size([6, 512])"
      ]
     },
     "execution_count": 47,
     "metadata": {},
     "output_type": "execute_result"
    }
   ],
   "source": [
    "data['text_features'].shape"
   ]
  },
  {
   "cell_type": "code",
   "execution_count": null,
   "id": "d5f9d23d-fbd6-4f9d-b66d-49f7b8178aa5",
   "metadata": {},
   "outputs": [],
   "source": []
  }
 ],
 "metadata": {
  "kernelspec": {
   "display_name": "Python 3 (ipykernel)",
   "language": "python",
   "name": "python3"
  },
  "language_info": {
   "codemirror_mode": {
    "name": "ipython",
    "version": 3
   },
   "file_extension": ".py",
   "mimetype": "text/x-python",
   "name": "python",
   "nbconvert_exporter": "python",
   "pygments_lexer": "ipython3",
   "version": "3.10.12"
  }
 },
 "nbformat": 4,
 "nbformat_minor": 5
}
