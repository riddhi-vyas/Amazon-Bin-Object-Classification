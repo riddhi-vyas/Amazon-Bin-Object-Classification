{
 "cells": [
  {
   "cell_type": "code",
   "execution_count": 1,
   "id": "8cc27dd9-f9b5-47b6-80f4-298c3c0bf798",
   "metadata": {},
   "outputs": [],
   "source": [
    "import pickle\n",
    "import torch\n",
    "# Load the pickle file\n",
    "with open('processed_image_features.pkl', 'rb') as f:\n",
    "    img_data = pickle.load(f)\n",
    "    \n",
    "# Load the pickle file\n",
    "with open('text_features.pkl', 'rb') as f:\n",
    "    text_data = pickle.load(f)"
   ]
  },
  {
   "cell_type": "code",
   "execution_count": 2,
   "id": "2b5e24e4-546b-48ab-9d97-8242aca73103",
   "metadata": {},
   "outputs": [
    {
     "name": "stdout",
     "output_type": "stream",
     "text": [
      "torch.Size([10000, 512])\n",
      "torch.Size([6, 512])\n"
     ]
    }
   ],
   "source": [
    "img_features = img_data['image_feature']\n",
    "img_files = img_data['files']\n",
    "text_features = text_data['text_features']\n",
    "\n",
    "print(img_features.shape)\n",
    "print(text_features.shape)\n",
    "\n"
   ]
  },
  {
   "cell_type": "code",
   "execution_count": 3,
   "id": "25645b41-77ef-4882-812d-e81b3819d1c1",
   "metadata": {},
   "outputs": [],
   "source": [
    "# Compute cosine similarity\n",
    "similarity_matrix = torch.matmul(img_features, text_features.T)"
   ]
  },
  {
   "cell_type": "code",
   "execution_count": 4,
   "id": "91f96bd2-18e3-4660-baf1-47eb2c44e0f4",
   "metadata": {},
   "outputs": [],
   "source": [
    "# Accuracy calculate \n",
    "import pandas as pd \n",
    "df = pd.read_csv('clean_dataset.csv')\n",
    "df = df[['filename', 'quantity']]\n",
    "data_dict = df.set_index('filename')['quantity'].to_dict()\n",
    "acc = 0\n",
    "for index, filename in enumerate(img_files):\n",
    "    if filename in data_dict:\n",
    "        ground_truth = data_dict[filename]\n",
    "        max_similarity_score, max_text_index = torch.max(similarity_matrix[index, :], dim=0)\n",
    "        if max_text_index == ground_truth:\n",
    "            acc +=1 \n",
    "    else:\n",
    "        pass"
   ]
  },
  {
   "cell_type": "code",
   "execution_count": 5,
   "id": "72f63d42-b29d-4b43-b9b2-fee108e8edfe",
   "metadata": {},
   "outputs": [
    {
     "data": {
      "text/plain": [
       "0.2138"
      ]
     },
     "execution_count": 5,
     "metadata": {},
     "output_type": "execute_result"
    }
   ],
   "source": [
    "(acc / 10000)"
   ]
  },
  {
   "cell_type": "code",
   "execution_count": 6,
   "id": "8f693a8e-9356-463d-af2a-e06e8d57e999",
   "metadata": {},
   "outputs": [],
   "source": [
    "similarity_matrix_text = torch.matmul(text_features, text_features.T)"
   ]
  },
  {
   "cell_type": "code",
   "execution_count": 7,
   "id": "795900ab-861d-404b-9761-418f48241a3c",
   "metadata": {},
   "outputs": [
    {
     "data": {
      "text/plain": [
       "tensor([[1.0000, 0.9975, 0.9936, 0.9937, 0.9925, 0.9912],\n",
       "        [0.9975, 1.0000, 0.9978, 0.9975, 0.9963, 0.9944],\n",
       "        [0.9936, 0.9978, 1.0000, 0.9977, 0.9950, 0.9905],\n",
       "        [0.9937, 0.9975, 0.9977, 1.0000, 0.9989, 0.9953],\n",
       "        [0.9925, 0.9963, 0.9950, 0.9989, 1.0000, 0.9981],\n",
       "        [0.9912, 0.9944, 0.9905, 0.9953, 0.9981, 1.0000]])"
      ]
     },
     "execution_count": 7,
     "metadata": {},
     "output_type": "execute_result"
    }
   ],
   "source": [
    "similarity_matrix_text"
   ]
  },
  {
   "cell_type": "code",
   "execution_count": 8,
   "id": "f622ea83-108d-4523-954d-a8fd49891d9f",
   "metadata": {},
   "outputs": [],
   "source": [
    "# Testing image embeddings quality \n",
    "from PIL import Image\n",
    "\n",
    "import os\n",
    "import clip\n",
    "import torch\n",
    "from PIL import Image\n",
    "\n",
    "# Load the model\n",
    "device = \"cuda\" if torch.cuda.is_available() else \"cpu\"\n",
    "model, preprocess = clip.load('ViT-B/32', device)\n",
    "path = \"bin_images\"\n",
    "image_data = Image.open(path + \"/\" + img_files[200])\n",
    "batch_image_input = preprocess(image_data).unsqueeze(0).to(device)\n",
    "with torch.no_grad():\n",
    "    image_features = model.encode_image(batch_image_input)    \n",
    "    \n",
    "image_features /= image_features.norm(dim=-1, keepdim=True)"
   ]
  },
  {
   "cell_type": "code",
   "execution_count": 10,
   "id": "4c9b2339-7489-4f3b-ae04-11968d88ab5e",
   "metadata": {},
   "outputs": [
    {
     "name": "stdout",
     "output_type": "stream",
     "text": [
      "Baseline accuracy among 6 classes = 0.16666666666666666\n"
     ]
    }
   ],
   "source": [
    "print(f\"Baseline accuracy among 6 classes = {1/6}\")"
   ]
  },
  {
   "cell_type": "code",
   "execution_count": null,
   "id": "f9d61c9f-6705-41a7-bc33-e9a0330fbd6f",
   "metadata": {},
   "outputs": [],
   "source": []
  }
 ],
 "metadata": {
  "kernelspec": {
   "display_name": "Python 3 (ipykernel)",
   "language": "python",
   "name": "python3"
  },
  "language_info": {
   "codemirror_mode": {
    "name": "ipython",
    "version": 3
   },
   "file_extension": ".py",
   "mimetype": "text/x-python",
   "name": "python",
   "nbconvert_exporter": "python",
   "pygments_lexer": "ipython3",
   "version": "3.10.12"
  }
 },
 "nbformat": 4,
 "nbformat_minor": 5
}
